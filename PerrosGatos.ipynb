{
  "nbformat": 4,
  "nbformat_minor": 0,
  "metadata": {
    "colab": {
      "name": "PerrosGatos.ipynb",
      "private_outputs": true,
      "provenance": [],
      "authorship_tag": "ABX9TyNbhcde6NfDzuhCMg3De7hN",
      "include_colab_link": true
    },
    "kernelspec": {
      "name": "python3",
      "display_name": "Python 3"
    },
    "language_info": {
      "name": "python"
    },
    "accelerator": "GPU"
  },
  "cells": [
    {
      "cell_type": "markdown",
      "metadata": {
        "id": "view-in-github",
        "colab_type": "text"
      },
      "source": [
        "<a href=\"https://colab.research.google.com/github/Alex120699/Master-IA3-2/blob/main/PerrosGatos.ipynb\" target=\"_parent\"><img src=\"https://colab.research.google.com/assets/colab-badge.svg\" alt=\"Open In Colab\"/></a>"
      ]
    },
    {
      "cell_type": "code",
      "metadata": {
        "id": "miQrjNSO_nmi"
      },
      "source": [
        "import tensorflow as tf\n",
        "import tensorflow_datasets as tfds\n",
        "\n",
        "#Descargamos base de datos perros y gatos\n",
        "datos, metadatos = tfds.load('cats_vs_dogs', as_supervised=True, with_info=True)"
      ],
      "execution_count": null,
      "outputs": []
    },
    {
      "cell_type": "code",
      "metadata": {
        "id": "y0drQyA7F2Dm"
      },
      "source": [
        ""
      ],
      "execution_count": null,
      "outputs": []
    },
    {
      "cell_type": "code",
      "metadata": {
        "id": "_RVaw3ttGadQ"
      },
      "source": [
        "#tfds.as_dataframe(datos['train'].take(5),metadatos)\n",
        "#fds.show_examples(datos['train'].take(5),metadatos)"
      ],
      "execution_count": null,
      "outputs": []
    },
    {
      "cell_type": "code",
      "metadata": {
        "id": "GTgZcA2JHtbG"
      },
      "source": [
        "import matplotlib.pyplot as plt\n",
        "import cv2\n",
        "\n",
        "#Hacemos las imagenes mas grandes\n",
        "plt.figure(figsize=(20,20))\n",
        "\n",
        "#Necesitamos que las imagenes sean del mismo tamaño todas. Cuanto mas grande sean, mas costoso, pero cuanto mas pequeño peor definicion\n",
        "tamaño_img=100\n",
        "\n",
        "n=int(input(\"Cuantas imagenes quieres ver: \")) #Convertimos el string en un entero\n",
        "for i,(imagen,etiqueta) in enumerate(datos['train'].take(n)):\n",
        "\n",
        "  #Convertimos las imagenes en una 200x200\n",
        "  imagen=cv2.resize(imagen.numpy(),(tamaño_img,tamaño_img)) #Se convierte la imagen en una matriz con .numpy()\n",
        "\n",
        "  #Convertimos las imagenes en blanco y negro para que pesen mucho menos\n",
        "  imagen=cv2.cvtColor(imagen, cv2.COLOR_BGR2GRAY)\n",
        "\n",
        "  #Las ordenamos en filas y columnas mediante subplot(nrows, ncols, index, **kwargs)\n",
        "\n",
        "  plt.subplot(round(n/5)+1,5,i+1) #Las he ordenado en cinco columnas\n",
        "\n",
        "  #Le quitamos las etiquetas de los ejes X e Y\n",
        "\n",
        "  plt.xticks([])\n",
        "  plt.yticks([])\n",
        "\n",
        "  #Las mostramos por pantalla\n",
        "\n",
        "  plt.imshow(imagen,cmap='gray')"
      ],
      "execution_count": null,
      "outputs": []
    },
    {
      "cell_type": "code",
      "metadata": {
        "id": "t2zyBHpiU-vN"
      },
      "source": [
        "datos_entrenamiento=[] #Preparamos la lista\n",
        "type(datos_entrenamiento)"
      ],
      "execution_count": null,
      "outputs": []
    },
    {
      "cell_type": "code",
      "metadata": {
        "id": "iRXmiZqBWnTT"
      },
      "source": [
        "for i,(imagen,etiqueta) in enumerate(datos['train']):#Todos los datos\n",
        "  imagen=cv2.resize(imagen.numpy(),(tamaño_img,tamaño_img))\n",
        "  imagen=cv2.cvtColor(imagen, cv2.COLOR_BGR2GRAY)\n",
        "  imagen=imagen.reshape(tamaño_img,tamaño_img,1) #Como hemos cambiado a escala de grises, indicamos que es una matriz 100x100 x 1 (si fuese rgb sera x3)\n",
        "  datos_entrenamiento.append([imagen,etiqueta])"
      ],
      "execution_count": null,
      "outputs": []
    },
    {
      "cell_type": "code",
      "metadata": {
        "id": "ciXcqoJtQrwD"
      },
      "source": [
        "print(f\"datos_entrenamiento es una lista con {len(datos_entrenamiento)} imagenes\")\n",
        "print(f\"Cada imagen es una lista con {len(datos_entrenamiento[0])} elementos\")\n",
        "print(f\"El primer elemento de la imagen es un {type(datos_entrenamiento[0][0])} con los pixels en una matriz {datos_entrenamiento[0][0].shape}\")\n",
        "print(f\"El segundor elemento de la imagen es un {type(datos_entrenamiento[0][1])} con 0 o 1 si gato o perro\")"
      ],
      "execution_count": null,
      "outputs": []
    },
    {
      "cell_type": "code",
      "metadata": {
        "id": "D0NhDX5JXaJ7"
      },
      "source": [
        "datos_entrenamiento[0] #En resultado, numpy=1 indica que es un perro"
      ],
      "execution_count": null,
      "outputs": []
    },
    {
      "cell_type": "code",
      "metadata": {
        "id": "25wbnOHWXrJS"
      },
      "source": [
        "len(datos_entrenamiento) #Total de imagenes"
      ],
      "execution_count": null,
      "outputs": []
    },
    {
      "cell_type": "code",
      "metadata": {
        "id": "sVMJLwrOYCCN"
      },
      "source": [
        "#Creamos la matriz predictores y la de respuestas (Imagenes y etiquetas)\n",
        "X=[] #(pixeles)\n",
        "Y=[] #Gato (0) o perro (1)\n",
        "\n",
        "for imagen,etiqueta in datos_entrenamiento:\n",
        "  X.append(imagen)\n",
        "  Y.append(etiqueta)"
      ],
      "execution_count": null,
      "outputs": []
    },
    {
      "cell_type": "code",
      "metadata": {
        "id": "H9eFp3ibYTK9"
      },
      "source": [
        "#Notamos que cada elemento de X es una matriz que representa una imagen de las 23262 que hay\n",
        "import numpy as np\n",
        "X=np.array(X)\n",
        "Y=np.array(Y)"
      ],
      "execution_count": null,
      "outputs": []
    },
    {
      "cell_type": "code",
      "metadata": {
        "id": "ApPs91u5U2IC"
      },
      "source": [
        "#Divimos el dataset en 3 diferentes y lo normalizamos entre [0,1]\n",
        "from sklearn.model_selection import train_test_split\n",
        "#X=np.squeeze(X)\n",
        "X_train_total, X_test, Y_train_total, Y_test = train_test_split(X/255., Y, test_size=0.1)\n",
        "X_train, X_val, Y_train, Y_val =train_test_split(X_train_total, Y_train_total,test_size=0.2)\n",
        "class_names=[\"gato\",\"perro\"]"
      ],
      "execution_count": null,
      "outputs": []
    },
    {
      "cell_type": "code",
      "metadata": {
        "id": "IYs7gUphWYyE"
      },
      "source": [
        "print(f\"Total Set: {len(X)}\")\n",
        "print(f\"Training Set: {len(X_train)}\")\n",
        "print(f\"Validation Set: {len(X_val)}\")\n",
        "print(f\"Testing Set: {len(X_test)}\")"
      ],
      "execution_count": null,
      "outputs": []
    },
    {
      "cell_type": "code",
      "metadata": {
        "id": "CxpzUvNyar46"
      },
      "source": [
        "#Vemos la estructura ahora arreglada de cada matriz\n",
        "#Solo se puede plotear si tenemos cada matriz mxn y no mxnx1\n",
        "(X.shape,Y.shape)\n",
        "plt.imshow(X_train[0][:][:],cmap=\"binary\")\n",
        "plt.axis(\"off\")\n",
        "plt.colorbar()"
      ],
      "execution_count": null,
      "outputs": []
    },
    {
      "cell_type": "code",
      "metadata": {
        "id": "D36qCyz0a2Ku"
      },
      "source": [
        "#Empezamos con los modelos"
      ],
      "execution_count": null,
      "outputs": []
    },
    {
      "cell_type": "code",
      "metadata": {
        "id": "sZbtIzis_J3H"
      },
      "source": [
        "#Modelo Denso"
      ],
      "execution_count": null,
      "outputs": []
    },
    {
      "cell_type": "code",
      "metadata": {
        "id": "UUM9Fog7_LU5"
      },
      "source": [
        "modeloDenso=tf.keras.models.Sequential([\n",
        "     tf.keras.layers.Flatten(input_shape=(100,100,1)),\n",
        "     tf.keras.layers.Dense(150,activation='relu'),\n",
        "     tf.keras.layers.Dense(150,activation='relu'),\n",
        "     tf.keras.layers.Dense(1,activation='sigmoid')                            \n",
        "])"
      ],
      "execution_count": null,
      "outputs": []
    },
    {
      "cell_type": "code",
      "metadata": {
        "id": "AALn__wnEygy"
      },
      "source": [
        "modeloDenso.compile(optimizer='adam',\n",
        "                    loss='binary_crossentropy',\n",
        "                    metrics=['accuracy'])"
      ],
      "execution_count": null,
      "outputs": []
    },
    {
      "cell_type": "code",
      "metadata": {
        "id": "ScqP3jsZDRmA"
      },
      "source": [
        "#Modelo convolucional"
      ],
      "execution_count": null,
      "outputs": []
    },
    {
      "cell_type": "code",
      "metadata": {
        "id": "wn3cGc8YDgAZ"
      },
      "source": [
        "modeloCNN=tf.keras.models.Sequential([\n",
        "     tf.keras.layers.Conv2D(32,(3,3),activation='relu',input_shape=(100,100,1)),\n",
        "     tf.keras.layers.MaxPooling2D(2,2),\n",
        "     tf.keras.layers.Conv2D(64,(3,3),activation='relu'),\n",
        "     tf.keras.layers.MaxPooling2D(2,2),\n",
        "     tf.keras.layers.Conv2D(128,(3,3),activation='relu'),\n",
        "     tf.keras.layers.MaxPooling2D(2,2),\n",
        "\n",
        "     tf.keras.layers.Flatten(),\n",
        "     tf.keras.layers.Dense(100,activation='relu'),\n",
        "     tf.keras.layers.Dense(1,activation='sigmoid')\n",
        "])"
      ],
      "execution_count": null,
      "outputs": []
    },
    {
      "cell_type": "code",
      "metadata": {
        "id": "uBRBdtz6qVxm"
      },
      "source": [
        "modeloCNN.compile(optimizer='adam',\n",
        "                    loss='binary_crossentropy',\n",
        "                    metrics=['accuracy'])"
      ],
      "execution_count": null,
      "outputs": []
    },
    {
      "cell_type": "code",
      "metadata": {
        "id": "IIoxz-0Ye7VP"
      },
      "source": [
        "#history = modeloDenso.fit(X_train,Y_train,epochs=100,validation_data=(X_val,Y_val))\n",
        "history = modeloCNN.fit(X_train,Y_train,epochs=20,validation_data=(X_val,Y_val))"
      ],
      "execution_count": null,
      "outputs": []
    },
    {
      "cell_type": "code",
      "metadata": {
        "id": "kB39o0Y8fq63"
      },
      "source": [
        "import pandas as pd\n",
        "df=pd.DataFrame(history.history)\n",
        "df.head()"
      ],
      "execution_count": null,
      "outputs": []
    },
    {
      "cell_type": "code",
      "metadata": {
        "id": "dFCS6HqmhNK8"
      },
      "source": [
        "df.plot(figsize=(10,7))"
      ],
      "execution_count": null,
      "outputs": []
    },
    {
      "cell_type": "code",
      "metadata": {
        "id": "icEC5TnOhQ_m"
      },
      "source": [
        "#modeloDenso.evaluate(X_test,Y_test)\n",
        "modeloCNN.evaluate(X_test,Y_test)"
      ],
      "execution_count": null,
      "outputs": []
    },
    {
      "cell_type": "code",
      "metadata": {
        "id": "2QbXiaC_hrha"
      },
      "source": [
        "X_new=X_test[:30]\n",
        "#y_prob=modeloDenso.predict(X_new)\n",
        "y_prob=modeloCNN.predict(X_new)\n",
        "y_pred=np.around(y_prob,0)\n",
        "y_pred"
      ],
      "execution_count": null,
      "outputs": []
    },
    {
      "cell_type": "code",
      "metadata": {
        "id": "V_gjuFuBh0gm"
      },
      "source": [
        "fig,ax=plt.subplots(6,5,figsize=(15,20))\n",
        "for i,ax in enumerate(ax.flat):\n",
        "  ax.imshow(np.squeeze(X_test[i]),cmap=\"binary\")\n",
        "  ax.set_axis_off()\n",
        "  ax.set_title(f\"Test Name: {class_names[Y_test[i]]}\\nPrediccion Name: {class_names[int(y_pred[i])]}\")"
      ],
      "execution_count": null,
      "outputs": []
    },
    {
      "cell_type": "code",
      "metadata": {
        "id": "f8ToYmHmjZ2c"
      },
      "source": [
        "+"
      ],
      "execution_count": null,
      "outputs": []
    }
  ]
}